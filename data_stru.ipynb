{
  "nbformat": 4,
  "nbformat_minor": 0,
  "metadata": {
    "colab": {
      "provenance": []
    },
    "kernelspec": {
      "name": "python3",
      "display_name": "Python 3"
    },
    "language_info": {
      "name": "python"
    }
  },
  "cells": [
    {
      "cell_type": "markdown",
      "source": [
        "1 - Discuss string slicing and provide examples.\n",
        "\n",
        "Answer - String slicing in Python is a technique used to access a subset of characters from a string. This is done by specifying a range of indices.\n",
        "\n"
      ],
      "metadata": {
        "id": "pdKl4cU24psc"
      }
    },
    {
      "cell_type": "code",
      "source": [
        "s = \"Hello, World!\"\n",
        "substring = s[0:5]\n",
        "print(substring)\n",
        "\n",
        "\n",
        "s = \"Hello, World!\"\n",
        "sn= s[:5]\n",
        "sl= s[7:]\n",
        "print(sn)\n",
        "print(sl)"
      ],
      "metadata": {
        "colab": {
          "base_uri": "https://localhost:8080/"
        },
        "id": "Pbx8Us_54vL4",
        "outputId": "8ca54a65-6698-46e4-d562-35eba51adc91"
      },
      "execution_count": 2,
      "outputs": [
        {
          "output_type": "stream",
          "name": "stdout",
          "text": [
            "Hello\n",
            "Hello\n",
            "World!\n"
          ]
        }
      ]
    },
    {
      "cell_type": "code",
      "source": [
        "s = \"Hello, World!\"\n",
        "l = s[-4]\n",
        "print(l)\n",
        "\n",
        "s = \"Hello, World!\"\n",
        "custom_slice = s[2:9:2]\n",
        "print(custom_slice)\n"
      ],
      "metadata": {
        "colab": {
          "base_uri": "https://localhost:8080/"
        },
        "id": "aQ6nDgIL5O_h",
        "outputId": "80471c0f-a972-47df-b785-62113a1b782b"
      },
      "execution_count": 3,
      "outputs": [
        {
          "output_type": "stream",
          "name": "stdout",
          "text": [
            "r\n",
            "lo o\n"
          ]
        }
      ]
    },
    {
      "cell_type": "markdown",
      "source": [
        "2 - Explain the key features of lists in Python.\n",
        "\n",
        "Answer - Lists in Python are one of the most versatile and commonly used data structures. They are ordered, mutable, and can hold a variety of object types. The key features of lists is\n",
        "Ordered,Mutable,Dynamic,Heterogeneous,indexing and Slicing,Built-in Functions and Methods, etc.\n",
        "\n",
        "Ordered Collection - Lists maintain the order of items. The order in which elements are added is preserved.Each element in a list has a specific index, starting from 0.\n",
        "\n",
        "Mutable - Lists can be modified after their creation. Elements can be added, removed, or changed.This is different from tuples, which are immutable.\n",
        "\n",
        "Dynamic - Lists can grow or shrink in size. You can add or remove elements as needed.\n",
        "\n",
        "Heterogeneous Elements - A list can contain elements of different data types, including integers, strings, floats, objects, and even other lists."
      ],
      "metadata": {
        "id": "mOYzAXAE5VJw"
      }
    },
    {
      "cell_type": "markdown",
      "source": [
        "3 - Describe how to access, modify and delete elements in a list with examples.\n",
        "\n",
        "Answer - (Access) In Python, you can access elements in a list using indexing and slicing.\n",
        "\n",
        "Indexing - Indexing allows you to access individual elements by their position. Indices start at 0 for the first element and increase by 1 for each subsequent element.\n",
        "\n",
        "Slicing - Slicing allows you to access a range of elements.where start is the index of the first element to include, and stop is the index of the first element to exclude.\n",
        "\n",
        "Modify - Modifying elements in a list in Python can be done in several ways, including changing individual elements, modifying multiple elements at once, and using list comprehensions.\n",
        "\n",
        "Delete - Deleting elements in a list can be done using various methods in Python, including the del statement, the remove() method, and the pop() method.\n"
      ],
      "metadata": {
        "id": "wmR-xF7d5lH7"
      }
    },
    {
      "cell_type": "code",
      "source": [
        "#indexing\n",
        "my_list = [10, 20, 30, 40, 50]\n",
        "a = my_list[0]\n",
        "b = my_list[2]\n",
        "\n",
        "print(a)\n",
        "print(b)"
      ],
      "metadata": {
        "colab": {
          "base_uri": "https://localhost:8080/"
        },
        "id": "Aw77C_Kz5l-5",
        "outputId": "16c339e8-97d6-41ff-ab0b-a8c2bf234e0e"
      },
      "execution_count": 4,
      "outputs": [
        {
          "output_type": "stream",
          "name": "stdout",
          "text": [
            "10\n",
            "30\n"
          ]
        }
      ]
    },
    {
      "cell_type": "code",
      "source": [
        "#slicing\n",
        "my_list = [10, 20, 30, 40, 50]\n",
        "a = my_list[0:5]\n",
        "b = my_list[2:-2]\n",
        "\n",
        "print(a)\n",
        "print(b)"
      ],
      "metadata": {
        "id": "wrK9HC0A62Ds"
      },
      "execution_count": null,
      "outputs": []
    },
    {
      "cell_type": "code",
      "source": [
        "#modify\n",
        "my_list = [10, 20, 30, 40, 50]\n",
        "my_list[1] = 25\n",
        "print(my_list)"
      ],
      "metadata": {
        "colab": {
          "base_uri": "https://localhost:8080/"
        },
        "id": "MWK1RNKR640o",
        "outputId": "03162eb7-b8ea-4e77-e435-b693684c77ff"
      },
      "execution_count": 5,
      "outputs": [
        {
          "output_type": "stream",
          "name": "stdout",
          "text": [
            "[10, 25, 30, 40, 50]\n"
          ]
        }
      ]
    },
    {
      "cell_type": "code",
      "source": [
        "#delete\n",
        "my_list = [10, 20, 30, 40, 50]\n",
        "del my_list[2]\n",
        "print(my_list)"
      ],
      "metadata": {
        "colab": {
          "base_uri": "https://localhost:8080/"
        },
        "id": "kmnXbTY968qH",
        "outputId": "c08ac1d4-49ff-4727-d074-b8efd429e03b"
      },
      "execution_count": 6,
      "outputs": [
        {
          "output_type": "stream",
          "name": "stdout",
          "text": [
            "[10, 20, 40, 50]\n"
          ]
        }
      ]
    },
    {
      "cell_type": "code",
      "source": [
        "#remove\n",
        "my_list = [10, 20, 30, 40, 50]\n",
        "my_list.remove(30)\n",
        "print(my_list)"
      ],
      "metadata": {
        "colab": {
          "base_uri": "https://localhost:8080/"
        },
        "id": "5ELP6bwS7EiX",
        "outputId": "8b0a8501-ced6-4842-be14-6341f7cc6db3"
      },
      "execution_count": 7,
      "outputs": [
        {
          "output_type": "stream",
          "name": "stdout",
          "text": [
            "[10, 20, 40, 50]\n"
          ]
        }
      ]
    },
    {
      "cell_type": "code",
      "source": [
        "#pop\n",
        "my_list = [10, 20, 30, 40, 50]\n",
        "last_element = my_list.pop()\n",
        "print(last_element)\n",
        "print(my_list)\n"
      ],
      "metadata": {
        "colab": {
          "base_uri": "https://localhost:8080/"
        },
        "id": "5MQF8CyD7G4z",
        "outputId": "f7ab4c7f-4123-4451-f56e-5230d289b063"
      },
      "execution_count": 8,
      "outputs": [
        {
          "output_type": "stream",
          "name": "stdout",
          "text": [
            "50\n",
            "[10, 20, 30, 40]\n"
          ]
        }
      ]
    },
    {
      "cell_type": "markdown",
      "source": [
        "4 - Compare and contrast tuples and lists with examples.\n",
        "\n",
        "Answer - Tuples and lists are both sequence data types in Python that can store a collection of items.\n",
        "\n",
        "Similarities - Ordered -  Both tuples and lists maintain the order of elements.\n",
        "Indexing: Elements in both tuples and lists can be accessed using indexing and slicing.\n",
        "Heterogeneous: Both can store elements of different data types\n",
        "Iterability: Both can be iterated over using loops.\n",
        "\n",
        "Differences\n",
        "Mutability - Lists are mutable, meaning their elements can be changed after creation.\n",
        "Tuples are immutable, meaning once created, their elements cannot be changed.\n",
        "List are enclosed with square brackets [],whereas tuple are enclosed with parentheses ()\n"
      ],
      "metadata": {
        "id": "2cBnA97B7Ja6"
      }
    },
    {
      "cell_type": "code",
      "source": [
        "#list\n",
        "my_list = [1, 2, 3, 4]\n",
        "print(my_list)\n",
        "\n",
        "# Modifying the list\n",
        "my_list[0] = 10\n",
        "print(my_list)\n",
        "\n",
        "# Adding an element\n",
        "my_list.append(5)\n",
        "print(my_list)\n",
        "\n",
        "# Removing an element\n",
        "my_list.remove(3)\n",
        "print(my_list)"
      ],
      "metadata": {
        "colab": {
          "base_uri": "https://localhost:8080/"
        },
        "id": "D5IWU5Qt7RwF",
        "outputId": "d47f9fa0-d0e4-4490-8a08-5e4c3289efc0"
      },
      "execution_count": 10,
      "outputs": [
        {
          "output_type": "stream",
          "name": "stdout",
          "text": [
            "[1, 2, 3, 4]\n",
            "[10, 2, 3, 4]\n",
            "[10, 2, 3, 4, 5]\n",
            "[10, 2, 4, 5]\n"
          ]
        }
      ]
    },
    {
      "cell_type": "code",
      "source": [
        "#tuple\n",
        "my_tuple = (1, 2, 3, 4)\n",
        "print(my_tuple)\n",
        "\n",
        "# Tuples support indexing and slicing\n",
        "print(my_tuple[0])\n",
        "print(my_tuple[1:3])\n",
        "\n",
        "# Counting and finding elements\n",
        "print(my_tuple.count(2))\n",
        "print( my_tuple.index(3))"
      ],
      "metadata": {
        "colab": {
          "base_uri": "https://localhost:8080/"
        },
        "id": "lqBFmcfh7iio",
        "outputId": "1ac89218-ba5f-4995-cb8d-6401952c261e"
      },
      "execution_count": 11,
      "outputs": [
        {
          "output_type": "stream",
          "name": "stdout",
          "text": [
            "(1, 2, 3, 4)\n",
            "1\n",
            "(2, 3)\n",
            "1\n",
            "2\n"
          ]
        }
      ]
    },
    {
      "cell_type": "markdown",
      "source": [
        "5 - Describe the key features of sets and provide examples of their use.\n",
        "\n",
        "Answer - key features of sets are:\n",
        "\n",
        "Unordered: Elements in a set do not have a defined order.\n",
        "\n",
        "Unique Elements: Sets do not allow duplicate elements.\n",
        "\n",
        "Mutable: Sets are mutable, meaning you can add or remove elements.\n",
        "\n",
        "Heterogeneous: Sets can contain elements of different types, but all elements must be hashable.\n"
      ],
      "metadata": {
        "id": "c3Gf8ru07onr"
      }
    },
    {
      "cell_type": "code",
      "source": [
        "#set\n",
        "my_set = {1, 2, 3, 4, 5}\n",
        "print(my_set)\n",
        "\n",
        "another_set = set([1, 2, 3, 4, 5])\n",
        "print(another_set)"
      ],
      "metadata": {
        "colab": {
          "base_uri": "https://localhost:8080/"
        },
        "id": "s6kHXDyW7rtA",
        "outputId": "5b3a7dc2-6865-4f69-e0ad-ecbf933a2002"
      },
      "execution_count": 12,
      "outputs": [
        {
          "output_type": "stream",
          "name": "stdout",
          "text": [
            "{1, 2, 3, 4, 5}\n",
            "{1, 2, 3, 4, 5}\n"
          ]
        }
      ]
    },
    {
      "cell_type": "code",
      "source": [
        "my_set = {1, 2, 3}\n",
        "\n",
        "# Adding an element\n",
        "my_set.add(4)\n",
        "print(my_set)\n",
        "\n",
        "# Removing an element\n",
        "my_set.remove(2)\n",
        "print(my_set)\n",
        "\n",
        "# Discarding an element (won't raise an error if the element is not present)\n",
        "my_set.discard(5)\n",
        "print(my_set)\n",
        "\n",
        "# Removing and returning an arbitrary element\n",
        "removed_element = my_set.pop()\n",
        "print(removed_element)\n",
        "print(my_set)\n",
        "\n",
        "# Clearing all elements\n",
        "my_set.clear()\n",
        "print(my_set)"
      ],
      "metadata": {
        "colab": {
          "base_uri": "https://localhost:8080/"
        },
        "id": "vqAUHCfD8EFr",
        "outputId": "61bd1993-9b22-4c75-f063-64c50a78345f"
      },
      "execution_count": 13,
      "outputs": [
        {
          "output_type": "stream",
          "name": "stdout",
          "text": [
            "{1, 2, 3, 4}\n",
            "{1, 3, 4}\n",
            "{1, 3, 4}\n",
            "1\n",
            "{3, 4}\n",
            "set()\n"
          ]
        }
      ]
    },
    {
      "cell_type": "markdown",
      "source": [
        "6 - Discuss the use cases of tuples and sets in Python programming.\n",
        "\n",
        "Answer - Tuples and sets are both essential data structures in Python, each serving specific purposes due to their unique properties.\n"
      ],
      "metadata": {
        "id": "AsZnGNlt8UMO"
      }
    },
    {
      "cell_type": "code",
      "source": [
        "#set\n",
        "set1 = {1, 2, 3}\n",
        "set2 = {3, 4, 5}\n",
        "\n",
        "union = set1.union(set2)\n",
        "print(union)\n",
        "\n",
        "intersection = set1.intersection(set2)\n",
        "print(intersection)\n",
        "\n",
        "difference = set1.difference(set2)\n",
        "print(difference)\n",
        "\n",
        "symmetric_difference = set1.symmetric_difference(set2)\n",
        "print(symmetric_difference)\n",
        "\n",
        "\n",
        "#tuple\n",
        "thistuple = (\"apple\", \"banana\", \"cherry\", \"orange\", \"kiwi\", \"melon\", \"mango\")\n",
        "print(thistuple[2:5])\n",
        "\n",
        "thistuple = (\"apple\", \"banana\", \"cherry\")\n",
        "y = (\"orange\",)\n",
        "thistuple += y\n",
        "\n",
        "print(thistuple)\n",
        "\n",
        "\n",
        "x = (\"apple\", \"banana\", \"cherry\")\n",
        "y = list(x)\n",
        "y[1] = \"kiwi\"\n",
        "x = tuple(y)\n",
        "\n",
        "print(x)\n"
      ],
      "metadata": {
        "colab": {
          "base_uri": "https://localhost:8080/"
        },
        "id": "RdwDuO2C8U4V",
        "outputId": "8ac5e318-c7e6-4cb5-d073-e8fcd2c8f460"
      },
      "execution_count": 21,
      "outputs": [
        {
          "output_type": "stream",
          "name": "stdout",
          "text": [
            "{1, 2, 3, 4, 5}\n",
            "{3}\n",
            "{1, 2}\n",
            "{1, 2, 4, 5}\n",
            "('cherry', 'orange', 'kiwi')\n",
            "('apple', 'banana', 'cherry', 'orange')\n",
            "('apple', 'kiwi', 'cherry')\n"
          ]
        }
      ]
    },
    {
      "cell_type": "markdown",
      "source": [
        "7 - Describe how to add, modify and delete items in a dictionary with examples.\n",
        "\n",
        "Answer - Dictionaries in Python are collections of key-value pairs where each key is unique. They are mutable, allowing for the addition, modification, and deletion of items.\n"
      ],
      "metadata": {
        "id": "jAvNYD4A9BTi"
      }
    },
    {
      "cell_type": "code",
      "source": [
        "my_dict = {}\n",
        "\n",
        "# Adding items\n",
        "my_dict['name'] = 'Alice'\n",
        "my_dict['age'] = 30\n",
        "my_dict['city'] = 'New York'\n",
        "print(my_dict)\n",
        "\n",
        "# Using update\n",
        "my_dict.update({'country': 'USA', 'occupation': 'Engineer'})\n",
        "print(my_dict)\n",
        "\n",
        "# Modifying items\n",
        "my_dict['age'] = 31\n",
        "my_dict['city'] = 'Los Angeles'\n",
        "print(my_dict)"
      ],
      "metadata": {
        "colab": {
          "base_uri": "https://localhost:8080/"
        },
        "id": "GlTZwNNV9EP_",
        "outputId": "342233bf-5b1d-477a-8a61-51885c9f036a"
      },
      "execution_count": 14,
      "outputs": [
        {
          "output_type": "stream",
          "name": "stdout",
          "text": [
            "{'name': 'Alice', 'age': 30, 'city': 'New York'}\n",
            "{'name': 'Alice', 'age': 30, 'city': 'New York', 'country': 'USA', 'occupation': 'Engineer'}\n",
            "{'name': 'Alice', 'age': 31, 'city': 'Los Angeles', 'country': 'USA', 'occupation': 'Engineer'}\n"
          ]
        }
      ]
    },
    {
      "cell_type": "code",
      "source": [
        "# Deleting a specific item\n",
        "my_dict['name'] = 'Alice'\n",
        "my_dict['age'] = 30\n",
        "my_dict['city'] = 'New York'\n",
        "del my_dict['city']\n",
        "\n",
        "print(my_dict)\n",
        "\n",
        "\n",
        "# Deleting all items\n",
        "my_dict.clear()\n",
        "\n",
        "print(my_dict)"
      ],
      "metadata": {
        "colab": {
          "base_uri": "https://localhost:8080/"
        },
        "id": "deRlMMnE9IYc",
        "outputId": "cb04e659-868c-4b78-88e5-f1fde2cc0d24"
      },
      "execution_count": 15,
      "outputs": [
        {
          "output_type": "stream",
          "name": "stdout",
          "text": [
            "{'name': 'Alice', 'age': 30, 'country': 'USA', 'occupation': 'Engineer'}\n",
            "{}\n"
          ]
        }
      ]
    },
    {
      "cell_type": "markdown",
      "source": [
        "8 - Discuss the importance of dictionary keys being immutable and provide examples.\n",
        "\n",
        "Answer - In Python, dictionary keys must be immutable because immutability ensures that the key remains constant throughout the lifetime of the dictionary\n",
        "\n",
        "Importance of Immutable Keys\n",
        "Hash Consistency- Dictionary keys are hashed to quickly locate the associated values.Immutable objects have a fixed hash value that remains constant during their lifetime, which allows the dictionary to efficiently retrieve values.\n",
        "\n",
        "Data Integrity- Immutability guarantees that the key will not be altered, preserving the integrity of the dictionary's internal structure. This ensures that the key-value mappings are stable and reliable.\n",
        "\n",
        "Immutable Keys are Strings,Tuples,Integers and Floats.\n"
      ],
      "metadata": {
        "id": "702YfsS99QuD"
      }
    },
    {
      "cell_type": "code",
      "source": [
        "#string\n",
        "my_dict = {'name': 'Alice', 'age': 30}\n",
        "print(my_dict['name'])"
      ],
      "metadata": {
        "colab": {
          "base_uri": "https://localhost:8080/"
        },
        "id": "BNpJkdei9jN5",
        "outputId": "731c69d7-9847-4cd1-b788-3263e6d8ae5f"
      },
      "execution_count": 16,
      "outputs": [
        {
          "output_type": "stream",
          "name": "stdout",
          "text": [
            "Alice\n"
          ]
        }
      ]
    },
    {
      "cell_type": "code",
      "source": [
        "#tuple\n",
        "my_dict = {('x', 1): 'hello', ('y', 2): 'world'}\n",
        "print(my_dict[('x', 1)])"
      ],
      "metadata": {
        "colab": {
          "base_uri": "https://localhost:8080/"
        },
        "id": "Uo9cNCCu9uMa",
        "outputId": "3d9e0467-90b5-46cc-eb9d-a2e3c64b9540"
      },
      "execution_count": 17,
      "outputs": [
        {
          "output_type": "stream",
          "name": "stdout",
          "text": [
            "hello\n"
          ]
        }
      ]
    },
    {
      "cell_type": "code",
      "source": [
        "#int and float\n",
        "my_dict = {1: 'one', 2: 'two'}\n",
        "print(my_dict[1])"
      ],
      "metadata": {
        "colab": {
          "base_uri": "https://localhost:8080/"
        },
        "id": "0kuw3fL59whE",
        "outputId": "a70f1997-149a-4385-f41e-8966acbcc923"
      },
      "execution_count": 18,
      "outputs": [
        {
          "output_type": "stream",
          "name": "stdout",
          "text": [
            "one\n"
          ]
        }
      ]
    }
  ]
}